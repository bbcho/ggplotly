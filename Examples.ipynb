{
 "cells": [
  {
   "cell_type": "code",
   "execution_count": 1,
   "metadata": {},
   "outputs": [],
   "source": [
    "%load_ext autoreload\n",
    "%autoreload 2\n",
    "import os\n",
    "import sys\n",
    "\n",
    "from ggplotly import *\n",
    "import pandas as pd\n",
    "import numpy as np"
   ]
  },
  {
   "cell_type": "code",
   "execution_count": null,
   "metadata": {},
   "outputs": [],
   "source": [
    "a = np.random.random(1000)\n",
    "b = np.random.random(1000)\n",
    "df = pd.DataFrame({'a': a, 'b': b})\n",
    "\n",
    "ggplot(df, aes(x='a', y='b')) + geom_point() + theme_dark()"
   ]
  },
  {
   "cell_type": "code",
   "execution_count": null,
   "metadata": {},
   "outputs": [],
   "source": [
    "x = np.random.random(1000)\n",
    "y = np.random.random(1000)\n",
    "df = pd.DataFrame({'x': x, 'y': y})\n",
    "\n",
    "ggplot(df) + geom_point(aes(x='x', y='y')) + theme_dark()"
   ]
  },
  {
   "cell_type": "code",
   "execution_count": null,
   "metadata": {},
   "outputs": [],
   "source": [
    "x = np.random.random(1000)\n",
    "y = np.random.random(1000)\n",
    "df = pd.DataFrame({'x': x, 'y': y})\n",
    "\n",
    "ggplot(df) + geom_point(aes(x='y', y='x')) + geom_point(aes(x='x', y='y')) + theme_dark()"
   ]
  },
  {
   "cell_type": "code",
   "execution_count": null,
   "metadata": {},
   "outputs": [],
   "source": [
    "x = np.random.random(1000)\n",
    "y = np.random.random(1000)\n",
    "df = pd.DataFrame({'x': x, 'y': y})\n",
    "\n",
    "x = np.random.random(1000)\n",
    "y = np.random.random(1000)\n",
    "df2 = pd.DataFrame({'x': x, 'y': y})\n",
    "\n",
    "ggplot(df, aes(x='x', y='y')) + geom_point() + geom_point(df2, aes(x='x', y='y', color='grey'), name=\"Ben\") + theme_dark()"
   ]
  },
  {
   "cell_type": "code",
   "execution_count": null,
   "metadata": {},
   "outputs": [],
   "source": [
    "x = np.random.random(1000)\n",
    "y = np.random.random(1000)\n",
    "df = pd.DataFrame({'x': x, 'y': y})\n",
    "df['category'] = 'A'\n",
    "\n",
    "x = np.random.random(1000)\n",
    "y = np.random.random(1000)\n",
    "df2 = pd.DataFrame({'x': x, 'y': y})\n",
    "df2['category'] = 'B'\n",
    "\n",
    "df = pd.concat([df, df2], axis=0)\n",
    "\n",
    "ggplot(df, aes(x='x', y='y', color='category')) + geom_point()"
   ]
  },
  {
   "cell_type": "code",
   "execution_count": null,
   "metadata": {},
   "outputs": [],
   "source": [
    "x = np.random.random(1000)\n",
    "y = np.random.random(1000)\n",
    "df = pd.DataFrame({'x': x, 'y': y})\n",
    "df['category'] = 'A'\n",
    "\n",
    "x = np.random.random(1000)\n",
    "y = np.random.random(1000)\n",
    "df2 = pd.DataFrame({'x': x, 'y': y})\n",
    "df2['category'] = 'B'\n",
    "\n",
    "df = pd.concat([df, df2], axis=0)\n",
    "\n",
    "ggplot(df, aes(x='x', y='y')) + geom_point() + facet_wrap('category')"
   ]
  },
  {
   "cell_type": "code",
   "execution_count": null,
   "metadata": {},
   "outputs": [],
   "source": [
    "x = np.linspace(0, 10, 100)\n",
    "y = np.random.random(100)\n",
    "df = pd.DataFrame({'x': x, 'y': y})\n",
    "\n",
    "ggplot(df, aes(x='x', y='y')) + geom_line(showlegend=True)"
   ]
  },
  {
   "cell_type": "code",
   "execution_count": null,
   "metadata": {},
   "outputs": [],
   "source": [
    "x = np.linspace(0, 10, 100)\n",
    "y = np.random.random(100)\n",
    "df = pd.DataFrame({'x': x, 'y': y})\n",
    "\n",
    "x = np.linspace(0, 10, 100)\n",
    "y = np.random.random(100)\n",
    "df2 = pd.DataFrame({'x': x, 'y': y})\n",
    "\n",
    "ggplot(df, aes(x='x', y='y')) + geom_line() + geom_line(df2, aes(x='x', y='y', color='red'), name=\"Ben\", showlegend=False)"
   ]
  },
  {
   "cell_type": "code",
   "execution_count": null,
   "metadata": {},
   "outputs": [],
   "source": [
    "x = np.linspace(0, 10, 100)\n",
    "y = np.random.random(100)\n",
    "df = pd.DataFrame({'x': x, 'y': y})\n",
    "df['category'] = 'A'\n",
    "\n",
    "x = np.linspace(0, 10, 100)\n",
    "y = np.random.random(100)\n",
    "df2 = pd.DataFrame({'x': x, 'y': y})\n",
    "df2['category'] = 'B'\n",
    "\n",
    "df = pd.concat([df, df2], axis=0)\n",
    "\n",
    "ggplot(df, aes(x='x', y='y', color='category')) + geom_line()"
   ]
  },
  {
   "cell_type": "code",
   "execution_count": null,
   "metadata": {},
   "outputs": [],
   "source": [
    "x = np.linspace(0, 10, 100)\n",
    "y = np.random.random(100)\n",
    "df = pd.DataFrame({'x': x, 'y': y})\n",
    "df['category'] = 'A'\n",
    "\n",
    "x = np.linspace(0, 10, 100)\n",
    "y = np.random.random(100)\n",
    "df2 = pd.DataFrame({'x': x, 'y': y})\n",
    "df2['category'] = 'B'\n",
    "\n",
    "df = pd.concat([df, df2], axis=0)\n",
    "\n",
    "ggplot(df, aes(x='x', y='y')) + geom_line() + facet_wrap('category')"
   ]
  },
  {
   "cell_type": "code",
   "execution_count": null,
   "metadata": {},
   "outputs": [],
   "source": [
    "x = np.linspace(0, 10, 100)\n",
    "y = np.random.random(100)\n",
    "df = pd.DataFrame({'x': x, 'y': y})\n",
    "\n",
    "ggplot(df, aes(x='x', y='y')) + geom_area(showlegend=False)"
   ]
  },
  {
   "cell_type": "code",
   "execution_count": null,
   "metadata": {},
   "outputs": [],
   "source": [
    "x = np.linspace(0, 10, 100)\n",
    "y = np.random.random(100)\n",
    "df = pd.DataFrame({'x': x, 'y': y})\n",
    "\n",
    "x = np.linspace(0, 10, 100)\n",
    "y = np.random.random(100)\n",
    "df2 = pd.DataFrame({'x': x, 'y': y})\n",
    "\n",
    "ggplot(df, aes(x='x', y='y')) + geom_area() + geom_area(df2, aes(x='x', y='y', color='red', fill='grey'), name=\"Ben\", showlegend=False) + geom_point(df, aes(x='x', y='y', color=\"red\", fill=\"red\"), showlegend=False)"
   ]
  },
  {
   "cell_type": "code",
   "execution_count": null,
   "metadata": {},
   "outputs": [],
   "source": [
    "x = np.linspace(0, 10, 100)\n",
    "y = np.random.random(100)\n",
    "df = pd.DataFrame({'x': x, 'y': y})\n",
    "df['category'] = 'A'\n",
    "\n",
    "x = np.linspace(0, 10, 100)\n",
    "y = np.random.random(100)\n",
    "df2 = pd.DataFrame({'x': x, 'y': y})\n",
    "df2['category'] = 'B'\n",
    "\n",
    "df = pd.concat([df, df2], axis=0)\n",
    "\n",
    "ggplot(df, aes(x='x', y='y', color='category')) + geom_area()"
   ]
  },
  {
   "cell_type": "code",
   "execution_count": null,
   "metadata": {},
   "outputs": [],
   "source": [
    "x = np.linspace(0, 10, 100)\n",
    "y = np.random.random(100)\n",
    "df = pd.DataFrame({'x': x, 'y': y})\n",
    "df['category'] = 'A'\n",
    "\n",
    "x = np.linspace(0, 10, 100)\n",
    "y = np.random.random(100)\n",
    "df2 = pd.DataFrame({'x': x, 'y': y})\n",
    "df2['category'] = 'B'\n",
    "\n",
    "df = pd.concat([df, df2], axis=0)\n",
    "\n",
    "ggplot(df, aes(x='x', y='y', color='category', fill='grey')) + geom_area()"
   ]
  },
  {
   "cell_type": "code",
   "execution_count": null,
   "metadata": {},
   "outputs": [],
   "source": [
    "\n",
    "# Step 2: Create a dictionary with more sample data\n",
    "data = {\n",
    "    'Category': ['A'] * 10 + ['B'] * 10 + ['C'] * 10 + ['D'] * 10 + ['E'] * 10,\n",
    "    'Values': np.random.randn(50) * 10 + 50  # Random data for boxplot\n",
    "}\n",
    "\n",
    "# Step 3: Convert the dictionary to a Pandas DataFrame\n",
    "df = pd.DataFrame(data)\n",
    "\n",
    "# Step 4: Create a ggplot object\n",
    "ggplot(df, aes(x='Category', y='Values')) + geom_boxplot()"
   ]
  },
  {
   "cell_type": "code",
   "execution_count": null,
   "metadata": {},
   "outputs": [],
   "source": [
    "\n",
    "# Step 2: Create a dictionary with more sample data\n",
    "data = {\n",
    "    'Category': ['A'] * 10 + ['B'] * 10 + ['C'] * 10 + ['D'] * 10 + ['E'] * 10,\n",
    "    'Values': np.random.randn(50) * 10 + 50  # Random data for boxplot\n",
    "}\n",
    "\n",
    "# Step 3: Convert the dictionary to a Pandas DataFrame\n",
    "df = pd.DataFrame(data)\n",
    "\n",
    "# Step 4: Create a ggplot object\n",
    "ggplot(df, aes(x='Category', y='Values', color=\"Category\")) + geom_boxplot() + theme_dark()"
   ]
  },
  {
   "cell_type": "code",
   "execution_count": null,
   "metadata": {},
   "outputs": [],
   "source": [
    "ggplot(df, aes(x='Category', y='Values', color='red', fill='blue')) + geom_boxplot()"
   ]
  },
  {
   "cell_type": "code",
   "execution_count": null,
   "metadata": {},
   "outputs": [],
   "source": [
    "ggplot(df, aes(x='Category', y='Values', color='Category', fill='blue')) + geom_boxplot()"
   ]
  },
  {
   "cell_type": "code",
   "execution_count": null,
   "metadata": {},
   "outputs": [],
   "source": [
    "df.groupby('Category').sum().reset_index()"
   ]
  },
  {
   "cell_type": "code",
   "execution_count": null,
   "metadata": {},
   "outputs": [],
   "source": [
    "ggplot(df.groupby('Category').sum().reset_index(), aes(x='Category', y='Values')) + geom_bar(stat='identity')"
   ]
  },
  {
   "cell_type": "code",
   "execution_count": null,
   "metadata": {},
   "outputs": [],
   "source": [
    "np.random.seed(42)\n",
    "data = pd.DataFrame({'x': np.random.randint(10, size=100)})\n",
    "ggplot(data, aes(x='x')) + geom_bar() + stat_count()"
   ]
  },
  {
   "cell_type": "code",
   "execution_count": null,
   "metadata": {},
   "outputs": [],
   "source": [
    "np.random.seed(42)\n",
    "data = {'x': np.random.randint(10, size=100)}\n",
    "ggplot(data, aes(x='x')) + geom_bar() + geom_bar(data, aes(x='x', color='red'), name='Ben')"
   ]
  },
  {
   "cell_type": "code",
   "execution_count": 1,
   "metadata": {},
   "outputs": [],
   "source": [
    "\n",
    "%load_ext autoreload\n",
    "%autoreload 2\n",
    "import os\n",
    "import sys\n",
    "\n",
    "from ggplotly import *\n",
    "import pandas as pd\n",
    "import numpy as np"
   ]
  },
  {
   "cell_type": "code",
   "execution_count": 4,
   "metadata": {},
   "outputs": [
    {
     "name": "stdout",
     "output_type": "stream",
     "text": [
      "A\n"
     ]
    },
    {
     "data": {
      "application/vnd.plotly.v1+json": {
       "config": {
        "plotlyServerURL": "https://plot.ly"
       },
       "data": [
        {
         "name": "Bar",
         "opacity": 1,
         "orientation": "h",
         "showlegend": true,
         "type": "bar",
         "x": [
          15,
          12,
          11,
          11,
          10,
          10,
          9,
          9,
          7,
          6
         ],
         "xaxis": "x",
         "y": [
          7,
          8,
          9,
          6,
          4,
          1,
          3,
          2,
          0,
          5
         ],
         "yaxis": "y"
        }
       ],
       "layout": {
        "barmode": "relative",
        "template": {
         "data": {
          "bar": [
           {
            "error_x": {
             "color": "#2a3f5f"
            },
            "error_y": {
             "color": "#2a3f5f"
            },
            "marker": {
             "line": {
              "color": "#E5ECF6",
              "width": 0.5
             },
             "pattern": {
              "fillmode": "overlay",
              "size": 10,
              "solidity": 0.2
             }
            },
            "type": "bar"
           }
          ],
          "barpolar": [
           {
            "marker": {
             "line": {
              "color": "#E5ECF6",
              "width": 0.5
             },
             "pattern": {
              "fillmode": "overlay",
              "size": 10,
              "solidity": 0.2
             }
            },
            "type": "barpolar"
           }
          ],
          "carpet": [
           {
            "aaxis": {
             "endlinecolor": "#2a3f5f",
             "gridcolor": "white",
             "linecolor": "white",
             "minorgridcolor": "white",
             "startlinecolor": "#2a3f5f"
            },
            "baxis": {
             "endlinecolor": "#2a3f5f",
             "gridcolor": "white",
             "linecolor": "white",
             "minorgridcolor": "white",
             "startlinecolor": "#2a3f5f"
            },
            "type": "carpet"
           }
          ],
          "choropleth": [
           {
            "colorbar": {
             "outlinewidth": 0,
             "ticks": ""
            },
            "type": "choropleth"
           }
          ],
          "contour": [
           {
            "colorbar": {
             "outlinewidth": 0,
             "ticks": ""
            },
            "colorscale": [
             [
              0,
              "#0d0887"
             ],
             [
              0.1111111111111111,
              "#46039f"
             ],
             [
              0.2222222222222222,
              "#7201a8"
             ],
             [
              0.3333333333333333,
              "#9c179e"
             ],
             [
              0.4444444444444444,
              "#bd3786"
             ],
             [
              0.5555555555555556,
              "#d8576b"
             ],
             [
              0.6666666666666666,
              "#ed7953"
             ],
             [
              0.7777777777777778,
              "#fb9f3a"
             ],
             [
              0.8888888888888888,
              "#fdca26"
             ],
             [
              1,
              "#f0f921"
             ]
            ],
            "type": "contour"
           }
          ],
          "contourcarpet": [
           {
            "colorbar": {
             "outlinewidth": 0,
             "ticks": ""
            },
            "type": "contourcarpet"
           }
          ],
          "heatmap": [
           {
            "colorbar": {
             "outlinewidth": 0,
             "ticks": ""
            },
            "colorscale": [
             [
              0,
              "#0d0887"
             ],
             [
              0.1111111111111111,
              "#46039f"
             ],
             [
              0.2222222222222222,
              "#7201a8"
             ],
             [
              0.3333333333333333,
              "#9c179e"
             ],
             [
              0.4444444444444444,
              "#bd3786"
             ],
             [
              0.5555555555555556,
              "#d8576b"
             ],
             [
              0.6666666666666666,
              "#ed7953"
             ],
             [
              0.7777777777777778,
              "#fb9f3a"
             ],
             [
              0.8888888888888888,
              "#fdca26"
             ],
             [
              1,
              "#f0f921"
             ]
            ],
            "type": "heatmap"
           }
          ],
          "heatmapgl": [
           {
            "colorbar": {
             "outlinewidth": 0,
             "ticks": ""
            },
            "colorscale": [
             [
              0,
              "#0d0887"
             ],
             [
              0.1111111111111111,
              "#46039f"
             ],
             [
              0.2222222222222222,
              "#7201a8"
             ],
             [
              0.3333333333333333,
              "#9c179e"
             ],
             [
              0.4444444444444444,
              "#bd3786"
             ],
             [
              0.5555555555555556,
              "#d8576b"
             ],
             [
              0.6666666666666666,
              "#ed7953"
             ],
             [
              0.7777777777777778,
              "#fb9f3a"
             ],
             [
              0.8888888888888888,
              "#fdca26"
             ],
             [
              1,
              "#f0f921"
             ]
            ],
            "type": "heatmapgl"
           }
          ],
          "histogram": [
           {
            "marker": {
             "pattern": {
              "fillmode": "overlay",
              "size": 10,
              "solidity": 0.2
             }
            },
            "type": "histogram"
           }
          ],
          "histogram2d": [
           {
            "colorbar": {
             "outlinewidth": 0,
             "ticks": ""
            },
            "colorscale": [
             [
              0,
              "#0d0887"
             ],
             [
              0.1111111111111111,
              "#46039f"
             ],
             [
              0.2222222222222222,
              "#7201a8"
             ],
             [
              0.3333333333333333,
              "#9c179e"
             ],
             [
              0.4444444444444444,
              "#bd3786"
             ],
             [
              0.5555555555555556,
              "#d8576b"
             ],
             [
              0.6666666666666666,
              "#ed7953"
             ],
             [
              0.7777777777777778,
              "#fb9f3a"
             ],
             [
              0.8888888888888888,
              "#fdca26"
             ],
             [
              1,
              "#f0f921"
             ]
            ],
            "type": "histogram2d"
           }
          ],
          "histogram2dcontour": [
           {
            "colorbar": {
             "outlinewidth": 0,
             "ticks": ""
            },
            "colorscale": [
             [
              0,
              "#0d0887"
             ],
             [
              0.1111111111111111,
              "#46039f"
             ],
             [
              0.2222222222222222,
              "#7201a8"
             ],
             [
              0.3333333333333333,
              "#9c179e"
             ],
             [
              0.4444444444444444,
              "#bd3786"
             ],
             [
              0.5555555555555556,
              "#d8576b"
             ],
             [
              0.6666666666666666,
              "#ed7953"
             ],
             [
              0.7777777777777778,
              "#fb9f3a"
             ],
             [
              0.8888888888888888,
              "#fdca26"
             ],
             [
              1,
              "#f0f921"
             ]
            ],
            "type": "histogram2dcontour"
           }
          ],
          "mesh3d": [
           {
            "colorbar": {
             "outlinewidth": 0,
             "ticks": ""
            },
            "type": "mesh3d"
           }
          ],
          "parcoords": [
           {
            "line": {
             "colorbar": {
              "outlinewidth": 0,
              "ticks": ""
             }
            },
            "type": "parcoords"
           }
          ],
          "pie": [
           {
            "automargin": true,
            "type": "pie"
           }
          ],
          "scatter": [
           {
            "fillpattern": {
             "fillmode": "overlay",
             "size": 10,
             "solidity": 0.2
            },
            "type": "scatter"
           }
          ],
          "scatter3d": [
           {
            "line": {
             "colorbar": {
              "outlinewidth": 0,
              "ticks": ""
             }
            },
            "marker": {
             "colorbar": {
              "outlinewidth": 0,
              "ticks": ""
             }
            },
            "type": "scatter3d"
           }
          ],
          "scattercarpet": [
           {
            "marker": {
             "colorbar": {
              "outlinewidth": 0,
              "ticks": ""
             }
            },
            "type": "scattercarpet"
           }
          ],
          "scattergeo": [
           {
            "marker": {
             "colorbar": {
              "outlinewidth": 0,
              "ticks": ""
             }
            },
            "type": "scattergeo"
           }
          ],
          "scattergl": [
           {
            "marker": {
             "colorbar": {
              "outlinewidth": 0,
              "ticks": ""
             }
            },
            "type": "scattergl"
           }
          ],
          "scattermapbox": [
           {
            "marker": {
             "colorbar": {
              "outlinewidth": 0,
              "ticks": ""
             }
            },
            "type": "scattermapbox"
           }
          ],
          "scatterpolar": [
           {
            "marker": {
             "colorbar": {
              "outlinewidth": 0,
              "ticks": ""
             }
            },
            "type": "scatterpolar"
           }
          ],
          "scatterpolargl": [
           {
            "marker": {
             "colorbar": {
              "outlinewidth": 0,
              "ticks": ""
             }
            },
            "type": "scatterpolargl"
           }
          ],
          "scatterternary": [
           {
            "marker": {
             "colorbar": {
              "outlinewidth": 0,
              "ticks": ""
             }
            },
            "type": "scatterternary"
           }
          ],
          "surface": [
           {
            "colorbar": {
             "outlinewidth": 0,
             "ticks": ""
            },
            "colorscale": [
             [
              0,
              "#0d0887"
             ],
             [
              0.1111111111111111,
              "#46039f"
             ],
             [
              0.2222222222222222,
              "#7201a8"
             ],
             [
              0.3333333333333333,
              "#9c179e"
             ],
             [
              0.4444444444444444,
              "#bd3786"
             ],
             [
              0.5555555555555556,
              "#d8576b"
             ],
             [
              0.6666666666666666,
              "#ed7953"
             ],
             [
              0.7777777777777778,
              "#fb9f3a"
             ],
             [
              0.8888888888888888,
              "#fdca26"
             ],
             [
              1,
              "#f0f921"
             ]
            ],
            "type": "surface"
           }
          ],
          "table": [
           {
            "cells": {
             "fill": {
              "color": "#EBF0F8"
             },
             "line": {
              "color": "white"
             }
            },
            "header": {
             "fill": {
              "color": "#C8D4E3"
             },
             "line": {
              "color": "white"
             }
            },
            "type": "table"
           }
          ]
         },
         "layout": {
          "annotationdefaults": {
           "arrowcolor": "#2a3f5f",
           "arrowhead": 0,
           "arrowwidth": 1
          },
          "autotypenumbers": "strict",
          "coloraxis": {
           "colorbar": {
            "outlinewidth": 0,
            "ticks": ""
           }
          },
          "colorscale": {
           "diverging": [
            [
             0,
             "#8e0152"
            ],
            [
             0.1,
             "#c51b7d"
            ],
            [
             0.2,
             "#de77ae"
            ],
            [
             0.3,
             "#f1b6da"
            ],
            [
             0.4,
             "#fde0ef"
            ],
            [
             0.5,
             "#f7f7f7"
            ],
            [
             0.6,
             "#e6f5d0"
            ],
            [
             0.7,
             "#b8e186"
            ],
            [
             0.8,
             "#7fbc41"
            ],
            [
             0.9,
             "#4d9221"
            ],
            [
             1,
             "#276419"
            ]
           ],
           "sequential": [
            [
             0,
             "#0d0887"
            ],
            [
             0.1111111111111111,
             "#46039f"
            ],
            [
             0.2222222222222222,
             "#7201a8"
            ],
            [
             0.3333333333333333,
             "#9c179e"
            ],
            [
             0.4444444444444444,
             "#bd3786"
            ],
            [
             0.5555555555555556,
             "#d8576b"
            ],
            [
             0.6666666666666666,
             "#ed7953"
            ],
            [
             0.7777777777777778,
             "#fb9f3a"
            ],
            [
             0.8888888888888888,
             "#fdca26"
            ],
            [
             1,
             "#f0f921"
            ]
           ],
           "sequentialminus": [
            [
             0,
             "#0d0887"
            ],
            [
             0.1111111111111111,
             "#46039f"
            ],
            [
             0.2222222222222222,
             "#7201a8"
            ],
            [
             0.3333333333333333,
             "#9c179e"
            ],
            [
             0.4444444444444444,
             "#bd3786"
            ],
            [
             0.5555555555555556,
             "#d8576b"
            ],
            [
             0.6666666666666666,
             "#ed7953"
            ],
            [
             0.7777777777777778,
             "#fb9f3a"
            ],
            [
             0.8888888888888888,
             "#fdca26"
            ],
            [
             1,
             "#f0f921"
            ]
           ]
          },
          "colorway": [
           "#636efa",
           "#EF553B",
           "#00cc96",
           "#ab63fa",
           "#FFA15A",
           "#19d3f3",
           "#FF6692",
           "#B6E880",
           "#FF97FF",
           "#FECB52"
          ],
          "font": {
           "color": "#2a3f5f"
          },
          "geo": {
           "bgcolor": "white",
           "lakecolor": "white",
           "landcolor": "#E5ECF6",
           "showlakes": true,
           "showland": true,
           "subunitcolor": "white"
          },
          "hoverlabel": {
           "align": "left"
          },
          "hovermode": "closest",
          "mapbox": {
           "style": "light"
          },
          "paper_bgcolor": "white",
          "plot_bgcolor": "#E5ECF6",
          "polar": {
           "angularaxis": {
            "gridcolor": "white",
            "linecolor": "white",
            "ticks": ""
           },
           "bgcolor": "#E5ECF6",
           "radialaxis": {
            "gridcolor": "white",
            "linecolor": "white",
            "ticks": ""
           }
          },
          "scene": {
           "xaxis": {
            "backgroundcolor": "#E5ECF6",
            "gridcolor": "white",
            "gridwidth": 2,
            "linecolor": "white",
            "showbackground": true,
            "ticks": "",
            "zerolinecolor": "white"
           },
           "yaxis": {
            "backgroundcolor": "#E5ECF6",
            "gridcolor": "white",
            "gridwidth": 2,
            "linecolor": "white",
            "showbackground": true,
            "ticks": "",
            "zerolinecolor": "white"
           },
           "zaxis": {
            "backgroundcolor": "#E5ECF6",
            "gridcolor": "white",
            "gridwidth": 2,
            "linecolor": "white",
            "showbackground": true,
            "ticks": "",
            "zerolinecolor": "white"
           }
          },
          "shapedefaults": {
           "line": {
            "color": "#2a3f5f"
           }
          },
          "ternary": {
           "aaxis": {
            "gridcolor": "white",
            "linecolor": "white",
            "ticks": ""
           },
           "baxis": {
            "gridcolor": "white",
            "linecolor": "white",
            "ticks": ""
           },
           "bgcolor": "#E5ECF6",
           "caxis": {
            "gridcolor": "white",
            "linecolor": "white",
            "ticks": ""
           }
          },
          "title": {
           "x": 0.05
          },
          "xaxis": {
           "automargin": true,
           "gridcolor": "white",
           "linecolor": "white",
           "ticks": "",
           "title": {
            "standoff": 15
           },
           "zerolinecolor": "white",
           "zerolinewidth": 2
          },
          "yaxis": {
           "automargin": true,
           "gridcolor": "white",
           "linecolor": "white",
           "ticks": "",
           "title": {
            "standoff": 15
           },
           "zerolinecolor": "white",
           "zerolinewidth": 2
          }
         }
        },
        "xaxis": {
         "anchor": "y",
         "domain": [
          0,
          1
         ]
        },
        "yaxis": {
         "anchor": "x",
         "domain": [
          0,
          1
         ]
        }
       }
      },
      "text/html": [
       "<div>                            <div id=\"3c929cf8-466c-4ce9-9b7e-f2260b95658b\" class=\"plotly-graph-div\" style=\"height:525px; width:100%;\"></div>            <script type=\"text/javascript\">                require([\"plotly\"], function(Plotly) {                    window.PLOTLYENV=window.PLOTLYENV || {};                                    if (document.getElementById(\"3c929cf8-466c-4ce9-9b7e-f2260b95658b\")) {                    Plotly.newPlot(                        \"3c929cf8-466c-4ce9-9b7e-f2260b95658b\",                        [{\"name\":\"Bar\",\"opacity\":1,\"orientation\":\"h\",\"showlegend\":true,\"x\":[15,12,11,11,10,10,9,9,7,6],\"y\":[7,8,9,6,4,1,3,2,0,5],\"type\":\"bar\",\"xaxis\":\"x\",\"yaxis\":\"y\"}],                        {\"template\":{\"data\":{\"histogram2dcontour\":[{\"type\":\"histogram2dcontour\",\"colorbar\":{\"outlinewidth\":0,\"ticks\":\"\"},\"colorscale\":[[0.0,\"#0d0887\"],[0.1111111111111111,\"#46039f\"],[0.2222222222222222,\"#7201a8\"],[0.3333333333333333,\"#9c179e\"],[0.4444444444444444,\"#bd3786\"],[0.5555555555555556,\"#d8576b\"],[0.6666666666666666,\"#ed7953\"],[0.7777777777777778,\"#fb9f3a\"],[0.8888888888888888,\"#fdca26\"],[1.0,\"#f0f921\"]]}],\"choropleth\":[{\"type\":\"choropleth\",\"colorbar\":{\"outlinewidth\":0,\"ticks\":\"\"}}],\"histogram2d\":[{\"type\":\"histogram2d\",\"colorbar\":{\"outlinewidth\":0,\"ticks\":\"\"},\"colorscale\":[[0.0,\"#0d0887\"],[0.1111111111111111,\"#46039f\"],[0.2222222222222222,\"#7201a8\"],[0.3333333333333333,\"#9c179e\"],[0.4444444444444444,\"#bd3786\"],[0.5555555555555556,\"#d8576b\"],[0.6666666666666666,\"#ed7953\"],[0.7777777777777778,\"#fb9f3a\"],[0.8888888888888888,\"#fdca26\"],[1.0,\"#f0f921\"]]}],\"heatmap\":[{\"type\":\"heatmap\",\"colorbar\":{\"outlinewidth\":0,\"ticks\":\"\"},\"colorscale\":[[0.0,\"#0d0887\"],[0.1111111111111111,\"#46039f\"],[0.2222222222222222,\"#7201a8\"],[0.3333333333333333,\"#9c179e\"],[0.4444444444444444,\"#bd3786\"],[0.5555555555555556,\"#d8576b\"],[0.6666666666666666,\"#ed7953\"],[0.7777777777777778,\"#fb9f3a\"],[0.8888888888888888,\"#fdca26\"],[1.0,\"#f0f921\"]]}],\"heatmapgl\":[{\"type\":\"heatmapgl\",\"colorbar\":{\"outlinewidth\":0,\"ticks\":\"\"},\"colorscale\":[[0.0,\"#0d0887\"],[0.1111111111111111,\"#46039f\"],[0.2222222222222222,\"#7201a8\"],[0.3333333333333333,\"#9c179e\"],[0.4444444444444444,\"#bd3786\"],[0.5555555555555556,\"#d8576b\"],[0.6666666666666666,\"#ed7953\"],[0.7777777777777778,\"#fb9f3a\"],[0.8888888888888888,\"#fdca26\"],[1.0,\"#f0f921\"]]}],\"contourcarpet\":[{\"type\":\"contourcarpet\",\"colorbar\":{\"outlinewidth\":0,\"ticks\":\"\"}}],\"contour\":[{\"type\":\"contour\",\"colorbar\":{\"outlinewidth\":0,\"ticks\":\"\"},\"colorscale\":[[0.0,\"#0d0887\"],[0.1111111111111111,\"#46039f\"],[0.2222222222222222,\"#7201a8\"],[0.3333333333333333,\"#9c179e\"],[0.4444444444444444,\"#bd3786\"],[0.5555555555555556,\"#d8576b\"],[0.6666666666666666,\"#ed7953\"],[0.7777777777777778,\"#fb9f3a\"],[0.8888888888888888,\"#fdca26\"],[1.0,\"#f0f921\"]]}],\"surface\":[{\"type\":\"surface\",\"colorbar\":{\"outlinewidth\":0,\"ticks\":\"\"},\"colorscale\":[[0.0,\"#0d0887\"],[0.1111111111111111,\"#46039f\"],[0.2222222222222222,\"#7201a8\"],[0.3333333333333333,\"#9c179e\"],[0.4444444444444444,\"#bd3786\"],[0.5555555555555556,\"#d8576b\"],[0.6666666666666666,\"#ed7953\"],[0.7777777777777778,\"#fb9f3a\"],[0.8888888888888888,\"#fdca26\"],[1.0,\"#f0f921\"]]}],\"mesh3d\":[{\"type\":\"mesh3d\",\"colorbar\":{\"outlinewidth\":0,\"ticks\":\"\"}}],\"scatter\":[{\"fillpattern\":{\"fillmode\":\"overlay\",\"size\":10,\"solidity\":0.2},\"type\":\"scatter\"}],\"parcoords\":[{\"type\":\"parcoords\",\"line\":{\"colorbar\":{\"outlinewidth\":0,\"ticks\":\"\"}}}],\"scatterpolargl\":[{\"type\":\"scatterpolargl\",\"marker\":{\"colorbar\":{\"outlinewidth\":0,\"ticks\":\"\"}}}],\"bar\":[{\"error_x\":{\"color\":\"#2a3f5f\"},\"error_y\":{\"color\":\"#2a3f5f\"},\"marker\":{\"line\":{\"color\":\"#E5ECF6\",\"width\":0.5},\"pattern\":{\"fillmode\":\"overlay\",\"size\":10,\"solidity\":0.2}},\"type\":\"bar\"}],\"scattergeo\":[{\"type\":\"scattergeo\",\"marker\":{\"colorbar\":{\"outlinewidth\":0,\"ticks\":\"\"}}}],\"scatterpolar\":[{\"type\":\"scatterpolar\",\"marker\":{\"colorbar\":{\"outlinewidth\":0,\"ticks\":\"\"}}}],\"histogram\":[{\"marker\":{\"pattern\":{\"fillmode\":\"overlay\",\"size\":10,\"solidity\":0.2}},\"type\":\"histogram\"}],\"scattergl\":[{\"type\":\"scattergl\",\"marker\":{\"colorbar\":{\"outlinewidth\":0,\"ticks\":\"\"}}}],\"scatter3d\":[{\"type\":\"scatter3d\",\"line\":{\"colorbar\":{\"outlinewidth\":0,\"ticks\":\"\"}},\"marker\":{\"colorbar\":{\"outlinewidth\":0,\"ticks\":\"\"}}}],\"scattermapbox\":[{\"type\":\"scattermapbox\",\"marker\":{\"colorbar\":{\"outlinewidth\":0,\"ticks\":\"\"}}}],\"scatterternary\":[{\"type\":\"scatterternary\",\"marker\":{\"colorbar\":{\"outlinewidth\":0,\"ticks\":\"\"}}}],\"scattercarpet\":[{\"type\":\"scattercarpet\",\"marker\":{\"colorbar\":{\"outlinewidth\":0,\"ticks\":\"\"}}}],\"carpet\":[{\"aaxis\":{\"endlinecolor\":\"#2a3f5f\",\"gridcolor\":\"white\",\"linecolor\":\"white\",\"minorgridcolor\":\"white\",\"startlinecolor\":\"#2a3f5f\"},\"baxis\":{\"endlinecolor\":\"#2a3f5f\",\"gridcolor\":\"white\",\"linecolor\":\"white\",\"minorgridcolor\":\"white\",\"startlinecolor\":\"#2a3f5f\"},\"type\":\"carpet\"}],\"table\":[{\"cells\":{\"fill\":{\"color\":\"#EBF0F8\"},\"line\":{\"color\":\"white\"}},\"header\":{\"fill\":{\"color\":\"#C8D4E3\"},\"line\":{\"color\":\"white\"}},\"type\":\"table\"}],\"barpolar\":[{\"marker\":{\"line\":{\"color\":\"#E5ECF6\",\"width\":0.5},\"pattern\":{\"fillmode\":\"overlay\",\"size\":10,\"solidity\":0.2}},\"type\":\"barpolar\"}],\"pie\":[{\"automargin\":true,\"type\":\"pie\"}]},\"layout\":{\"autotypenumbers\":\"strict\",\"colorway\":[\"#636efa\",\"#EF553B\",\"#00cc96\",\"#ab63fa\",\"#FFA15A\",\"#19d3f3\",\"#FF6692\",\"#B6E880\",\"#FF97FF\",\"#FECB52\"],\"font\":{\"color\":\"#2a3f5f\"},\"hovermode\":\"closest\",\"hoverlabel\":{\"align\":\"left\"},\"paper_bgcolor\":\"white\",\"plot_bgcolor\":\"#E5ECF6\",\"polar\":{\"bgcolor\":\"#E5ECF6\",\"angularaxis\":{\"gridcolor\":\"white\",\"linecolor\":\"white\",\"ticks\":\"\"},\"radialaxis\":{\"gridcolor\":\"white\",\"linecolor\":\"white\",\"ticks\":\"\"}},\"ternary\":{\"bgcolor\":\"#E5ECF6\",\"aaxis\":{\"gridcolor\":\"white\",\"linecolor\":\"white\",\"ticks\":\"\"},\"baxis\":{\"gridcolor\":\"white\",\"linecolor\":\"white\",\"ticks\":\"\"},\"caxis\":{\"gridcolor\":\"white\",\"linecolor\":\"white\",\"ticks\":\"\"}},\"coloraxis\":{\"colorbar\":{\"outlinewidth\":0,\"ticks\":\"\"}},\"colorscale\":{\"sequential\":[[0.0,\"#0d0887\"],[0.1111111111111111,\"#46039f\"],[0.2222222222222222,\"#7201a8\"],[0.3333333333333333,\"#9c179e\"],[0.4444444444444444,\"#bd3786\"],[0.5555555555555556,\"#d8576b\"],[0.6666666666666666,\"#ed7953\"],[0.7777777777777778,\"#fb9f3a\"],[0.8888888888888888,\"#fdca26\"],[1.0,\"#f0f921\"]],\"sequentialminus\":[[0.0,\"#0d0887\"],[0.1111111111111111,\"#46039f\"],[0.2222222222222222,\"#7201a8\"],[0.3333333333333333,\"#9c179e\"],[0.4444444444444444,\"#bd3786\"],[0.5555555555555556,\"#d8576b\"],[0.6666666666666666,\"#ed7953\"],[0.7777777777777778,\"#fb9f3a\"],[0.8888888888888888,\"#fdca26\"],[1.0,\"#f0f921\"]],\"diverging\":[[0,\"#8e0152\"],[0.1,\"#c51b7d\"],[0.2,\"#de77ae\"],[0.3,\"#f1b6da\"],[0.4,\"#fde0ef\"],[0.5,\"#f7f7f7\"],[0.6,\"#e6f5d0\"],[0.7,\"#b8e186\"],[0.8,\"#7fbc41\"],[0.9,\"#4d9221\"],[1,\"#276419\"]]},\"xaxis\":{\"gridcolor\":\"white\",\"linecolor\":\"white\",\"ticks\":\"\",\"title\":{\"standoff\":15},\"zerolinecolor\":\"white\",\"automargin\":true,\"zerolinewidth\":2},\"yaxis\":{\"gridcolor\":\"white\",\"linecolor\":\"white\",\"ticks\":\"\",\"title\":{\"standoff\":15},\"zerolinecolor\":\"white\",\"automargin\":true,\"zerolinewidth\":2},\"scene\":{\"xaxis\":{\"backgroundcolor\":\"#E5ECF6\",\"gridcolor\":\"white\",\"linecolor\":\"white\",\"showbackground\":true,\"ticks\":\"\",\"zerolinecolor\":\"white\",\"gridwidth\":2},\"yaxis\":{\"backgroundcolor\":\"#E5ECF6\",\"gridcolor\":\"white\",\"linecolor\":\"white\",\"showbackground\":true,\"ticks\":\"\",\"zerolinecolor\":\"white\",\"gridwidth\":2},\"zaxis\":{\"backgroundcolor\":\"#E5ECF6\",\"gridcolor\":\"white\",\"linecolor\":\"white\",\"showbackground\":true,\"ticks\":\"\",\"zerolinecolor\":\"white\",\"gridwidth\":2}},\"shapedefaults\":{\"line\":{\"color\":\"#2a3f5f\"}},\"annotationdefaults\":{\"arrowcolor\":\"#2a3f5f\",\"arrowhead\":0,\"arrowwidth\":1},\"geo\":{\"bgcolor\":\"white\",\"landcolor\":\"#E5ECF6\",\"subunitcolor\":\"white\",\"showland\":true,\"showlakes\":true,\"lakecolor\":\"white\"},\"title\":{\"x\":0.05},\"mapbox\":{\"style\":\"light\"}}},\"xaxis\":{\"anchor\":\"y\",\"domain\":[0.0,1.0]},\"yaxis\":{\"anchor\":\"x\",\"domain\":[0.0,1.0]},\"barmode\":\"relative\"},                        {\"responsive\": true}                    ).then(function(){\n",
       "                            \n",
       "var gd = document.getElementById('3c929cf8-466c-4ce9-9b7e-f2260b95658b');\n",
       "var x = new MutationObserver(function (mutations, observer) {{\n",
       "        var display = window.getComputedStyle(gd).display;\n",
       "        if (!display || display === 'none') {{\n",
       "            console.log([gd, 'removed!']);\n",
       "            Plotly.purge(gd);\n",
       "            observer.disconnect();\n",
       "        }}\n",
       "}});\n",
       "\n",
       "// Listen for the removal of the full notebook cells\n",
       "var notebookContainer = gd.closest('#notebook-container');\n",
       "if (notebookContainer) {{\n",
       "    x.observe(notebookContainer, {childList: true});\n",
       "}}\n",
       "\n",
       "// Listen for the clearing of the current output cell\n",
       "var outputEl = gd.closest('.output');\n",
       "if (outputEl) {{\n",
       "    x.observe(outputEl, {childList: true});\n",
       "}}\n",
       "\n",
       "                        })                };                });            </script>        </div>"
      ]
     },
     "metadata": {},
     "output_type": "display_data"
    },
    {
     "data": {
      "text/html": [],
      "text/plain": [
       "<ggplotly.ggplot.ggplot at 0x7f8c9b542a70>"
      ]
     },
     "execution_count": 4,
     "metadata": {},
     "output_type": "execute_result"
    }
   ],
   "source": [
    "np.random.seed(42)\n",
    "data = {'test': np.random.randint(10, size=100)}\n",
    "ggplot(data, aes(y='test')) + geom_bar()"
   ]
  },
  {
   "cell_type": "code",
   "execution_count": 5,
   "metadata": {},
   "outputs": [],
   "source": [
    "mpg_df=pd.read_csv('https://raw.githubusercontent.com/JetBrains/lets-plot-docs/master/data/mpg.csv')"
   ]
  },
  {
   "cell_type": "code",
   "execution_count": null,
   "metadata": {},
   "outputs": [],
   "source": [
    "ggplot(mpg_df, aes(x='class')) + \\\n",
    "    geom_bar(aes(color='class'), alpha=.8)"
   ]
  },
  {
   "cell_type": "code",
   "execution_count": null,
   "metadata": {},
   "outputs": [],
   "source": [
    "ggplot(mpg_df) + \\\n",
    "    geom_bar(aes(x='cyl', fill='drv'))\n",
    "    # geom_bar(aes(x='cyl', fill='drv'), color='white', size=0.5)"
   ]
  },
  {
   "cell_type": "code",
   "execution_count": null,
   "metadata": {},
   "outputs": [],
   "source": [
    "ggplot(mpg_df) + \\\n",
    "    geom_bar(aes(x='cyl', fill='drv'), position='dodge')\n",
    "    # geom_bar(aes(x='cyl', fill='drv'), color='white', size=0.5)"
   ]
  },
  {
   "cell_type": "code",
   "execution_count": null,
   "metadata": {},
   "outputs": [],
   "source": [
    "np.random.seed(42)\n",
    "n = 10\n",
    "x = np.arange(n)\n",
    "y = 1 + np.random.randint(5, size=n)\n",
    "df = pd.DataFrame({'x': x, 'y': y})\n",
    "ggplot(df, aes(x='x', y='y')) + geom_bar(stat=\"mean\")"
   ]
  },
  {
   "cell_type": "code",
   "execution_count": null,
   "metadata": {},
   "outputs": [],
   "source": []
  },
  {
   "cell_type": "code",
   "execution_count": null,
   "metadata": {},
   "outputs": [],
   "source": []
  },
  {
   "cell_type": "code",
   "execution_count": null,
   "metadata": {},
   "outputs": [],
   "source": []
  },
  {
   "cell_type": "code",
   "execution_count": null,
   "metadata": {},
   "outputs": [],
   "source": [
    "# Sample Data\n",
    "\n",
    "df = pd.DataFrame({\n",
    "    'x': [1, 2, 3],\n",
    "    'y': [4, 5, 6]\n",
    "})\n",
    "\n",
    "# Create a plot with coord_flip\n",
    "ggplot(df, aes(x='x', y='y')) + geom_point() + coord_flip()"
   ]
  },
  {
   "cell_type": "code",
   "execution_count": null,
   "metadata": {},
   "outputs": [],
   "source": [
    "(\n",
    "    ggplot(df, aes(x='x', y='y')) +\n",
    "    geom_point() +\n",
    "    labs(\n",
    "        title='Main Title',\n",
    "        subtitle='This is a subtitle',\n",
    "        x='X-Axis',\n",
    "        y='Y-Axis',\n",
    "        caption='Data source: XYZ'\n",
    "    ) +\n",
    "    theme_minimal()\n",
    ")\n"
   ]
  },
  {
   "cell_type": "code",
   "execution_count": null,
   "metadata": {},
   "outputs": [],
   "source": [
    "# Sample Data\n",
    "df = pd.DataFrame({\n",
    "    'x': [1, 2, 3],\n",
    "    'y': [4, 5, 6]\n",
    "})\n",
    "\n",
    "# Create Plot with Title\n",
    "(\n",
    "    ggplot(df, aes(x='x', y='y')) +\n",
    "    geom_point() +\n",
    "    ggtitle('My Plot Title') +\n",
    "    theme_minimal()\n",
    ")\n"
   ]
  },
  {
   "cell_type": "code",
   "execution_count": null,
   "metadata": {},
   "outputs": [],
   "source": [
    "import pandas as pd\n",
    "\n",
    "# Sample Data\n",
    "df = pd.DataFrame({\n",
    "    'x': [1, 2, 3],\n",
    "    'y': [4, 5, 6]\n",
    "})\n",
    "\n",
    "# Create Plot with Title\n",
    "p = (\n",
    "    ggplot(df, aes(x='x', y='y')) +\n",
    "    geom_point() +\n",
    "    labs(title='My Plot Title', x='X-Axis Label', y='Y-Axis Label') +\n",
    "    theme_minimal()\n",
    ")\n",
    "\n",
    "# Draw Plot\n",
    "p.draw()\n"
   ]
  },
  {
   "cell_type": "code",
   "execution_count": null,
   "metadata": {},
   "outputs": [],
   "source": [
    "import pandas as pd\n",
    "import numpy as np\n",
    "\n",
    "# Sample Data\n",
    "df = pd.DataFrame({\n",
    "    'x': np.linspace(0, 10, 100),\n",
    "    'y': np.sin(np.linspace(0, 10, 100)),\n",
    "    'category': np.random.choice(['A', 'B'], 100)\n",
    "})\n",
    "\n",
    "# Area Plot with Faceting\n",
    "p = (\n",
    "    ggplot(df, aes(x='x', y='y')) +\n",
    "    geom_area(fill='lightblue', alpha=0.5) +\n",
    "    facet_wrap('category') +\n",
    "    theme_minimal()\n",
    ")\n",
    "p.draw()\n"
   ]
  },
  {
   "cell_type": "code",
   "execution_count": null,
   "metadata": {},
   "outputs": [],
   "source": [
    "df = pd.DataFrame({\n",
    "    'x': [1, 2, 3, 4, 5],\n",
    "    'y': [10, 15, 13, 17, 20]\n",
    "})\n",
    "\n",
    "# Create a plot with the NYTimes theme\n",
    "(\n",
    "    ggplot(df, aes(x='x', y='y')) +\n",
    "    geom_line() +\n",
    "    geom_point(size=10) +\n",
    "    labs(title='GGPLOT2') +\n",
    "    theme_ggplot2()  # Applying the NYT theme\n",
    ")\n"
   ]
  },
  {
   "cell_type": "code",
   "execution_count": null,
   "metadata": {},
   "outputs": [],
   "source": [
    "df = pd.DataFrame({\n",
    "    'x': [1, 2, 3, 4, 5],\n",
    "    'y': [10, 15, 13, 17, 20]\n",
    "})\n",
    "\n",
    "# Create a plot with the NYTimes theme\n",
    "(\n",
    "    ggplot(df, aes(x='x', y='y')) +\n",
    "    geom_line() +\n",
    "    geom_point(size=10) +\n",
    "    labs(title='New York Times Style Chart') +\n",
    "    theme_nytimes()  # Applying the NYT theme\n",
    ")\n"
   ]
  },
  {
   "cell_type": "markdown",
   "metadata": {},
   "source": [
    "# HERE"
   ]
  },
  {
   "cell_type": "code",
   "execution_count": null,
   "metadata": {},
   "outputs": [],
   "source": []
  },
  {
   "cell_type": "code",
   "execution_count": null,
   "metadata": {},
   "outputs": [],
   "source": [
    "# Sample Data\n",
    "np.random.seed(0)\n",
    "df = pd.DataFrame({\n",
    "    'x': np.random.randn(200),\n",
    "    'y': np.random.randn(200),\n",
    "    'category': np.random.choice(['A', 'B'], size=200)\n",
    "})\n",
    "\n",
    "# Create Plot with Faceting\n",
    "p = (\n",
    "    ggplot(df, aes(x='x', y='y')) +\n",
    "    geom_point(color='blue', alpha=0.5) +\n",
    "    geom_smooth(method='loess', color='red') +\n",
    "    facet_wrap('category', ncol=1) +\n",
    "    theme_minimal()\n",
    ")\n",
    "\n",
    "# Draw Plot\n",
    "p.draw()\n"
   ]
  },
  {
   "cell_type": "code",
   "execution_count": null,
   "metadata": {},
   "outputs": [],
   "source": [
    "# Sample Data\n",
    "import pandas as pd\n",
    "\n",
    "df = pd.DataFrame({\n",
    "    'x': [1, 2, 3],\n",
    "    'y': [4, 5, 6]\n",
    "})\n",
    "\n",
    "# Create a plot with coord_flip\n",
    "ggplot(df, aes(x='x', y='y')) + geom_point() + coord_flip() + ggsize(1000,1000) + ggsave(\"coord_flip.html\")"
   ]
  },
  {
   "cell_type": "code",
   "execution_count": null,
   "metadata": {},
   "outputs": [],
   "source": [
    "# Sample Data\n",
    "df = pd.DataFrame({\n",
    "    'x': [1, 2, 3, 4, 5],\n",
    "    'y': [2, 3, 5, 7, 11]\n",
    "})\n",
    "\n",
    "# Create Plot\n",
    "p = (\n",
    "    ggplot(df, aes(x='x', y='y')) +\n",
    "    geom_point(color='red', size=10) +\n",
    "    geom_line() +\n",
    "    scale_x_continuous(name='X-Axis') +\n",
    "    theme_minimal()\n",
    ")\n",
    "\n",
    "# Draw Plot\n",
    "p.draw()\n"
   ]
  },
  {
   "cell_type": "code",
   "execution_count": null,
   "metadata": {},
   "outputs": [],
   "source": [
    "df = pd.DataFrame({\n",
    "    'x': [1, 2, 3],\n",
    "    'y': [4, 5, 6]\n",
    "})\n",
    "\n",
    "# Create a plot with coord_flip\n",
    "p = ggplot(df, aes(x='x', y='y')) + geom_point() + coord_flip()\n",
    "p.draw()\n"
   ]
  },
  {
   "cell_type": "code",
   "execution_count": null,
   "metadata": {},
   "outputs": [],
   "source": [
    "# Testing geom_violin with faceting\n",
    "df_violin = pd.DataFrame({\n",
    "    'category': np.random.choice(['A', 'B'], 200),\n",
    "    'value': np.random.randn(200)\n",
    "})\n",
    "\n",
    "p = (\n",
    "    ggplot(df_violin, aes(x='category', y='value')) +\n",
    "    geom_violin(fill='lightblue', color='black') +\n",
    "    facet_wrap('category') +\n",
    "    theme_minimal()\n",
    ")\n",
    "p.draw()\n"
   ]
  },
  {
   "cell_type": "code",
   "execution_count": null,
   "metadata": {},
   "outputs": [],
   "source": [
    "# Sample Data\n",
    "df = pd.DataFrame({\n",
    "    'x': np.linspace(0, 10, 1000),\n",
    "    'y': np.sin(np.linspace(0, 10, 1000)),\n",
    "    'category': np.random.choice(['A', 'B'], 1000),\n",
    "    'sub_category': np.random.choice(['X', 'Y'], 1000)\n",
    "})\n",
    "\n",
    "# Area Plot with Grid Faceting\n",
    "p = (\n",
    "    ggplot(df, aes(x='x', y='y')) +\n",
    "    geom_area(fill='lightblue', alpha=0.5) +\n",
    "    facet_grid(rows='category', cols='sub_category') +  # Updated argument names\n",
    "    theme_minimal()\n",
    ")\n",
    "\n",
    "# Draw Plot\n",
    "p.draw()\n"
   ]
  },
  {
   "cell_type": "code",
   "execution_count": null,
   "metadata": {},
   "outputs": [],
   "source": [
    "\n",
    "# Sample Data\n",
    "df = pd.DataFrame({\n",
    "    'x': np.linspace(0, 10, 100),\n",
    "    'y': np.sin(np.linspace(0, 10, 100)) + np.random.normal(scale=0.1, size=100)\n",
    "})\n",
    "\n",
    "# LOESS Example\n",
    "p = (\n",
    "    ggplot(df, aes(x='x', y='y')) +\n",
    "    geom_smooth(method='loess', color='blue', alpha=0.6, linetype='solid') +\n",
    "    theme_minimal()\n",
    ")\n",
    "p.draw()\n",
    "\n",
    "# Linear Regression Example\n",
    "p = (\n",
    "    ggplot(df, aes(x='x', y='y')) +\n",
    "    geom_smooth(method='lm', color='red', alpha=0.6, linetype='dash') +\n",
    "    theme_minimal()\n",
    ")\n",
    "p.draw()\n"
   ]
  },
  {
   "cell_type": "code",
   "execution_count": null,
   "metadata": {},
   "outputs": [],
   "source": [
    "# Sample Data\n",
    "df = pd.DataFrame({\n",
    "    'x': np.linspace(0, 10, 100),\n",
    "    'y': np.sin(np.linspace(0, 10, 100)),\n",
    "    'category': np.random.choice(['A', 'B'], 100)\n",
    "})\n",
    "\n",
    "# Example Plot\n",
    "p = (\n",
    "    ggplot(df, aes(x='x', y='y', color='category')) +\n",
    "    geom_line() +\n",
    "    geom_point() +\n",
    "    geom_smooth(method='loess') +\n",
    "    facet_wrap('category') +\n",
    "    theme_minimal()\n",
    ")\n",
    "p.draw()\n"
   ]
  },
  {
   "cell_type": "code",
   "execution_count": null,
   "metadata": {},
   "outputs": [],
   "source": [
    "\n",
    "\n",
    "# Sample Data\n",
    "np.random.seed(0)\n",
    "df = pd.DataFrame({\n",
    "    'x': np.random.normal(size=100),\n",
    "    'y': np.random.normal(size=100),\n",
    "    'category': np.random.choice(['A', 'B'], size=100)\n",
    "})\n",
    "\n",
    "# Faceted Plot with geom_area and geom_density\n",
    "p = (\n",
    "    ggplot(df, aes(x='x', y='y')) +\n",
    "    geom_point() +\n",
    "    geom_smooth(method='loess') +\n",
    "    # geom_area(aes(y='y'), fill='lightblue', alpha=0.5) +\n",
    "    geom_density(aes(x='x'), color='red') +\n",
    "    facet_wrap('category') +\n",
    "    theme_minimal()\n",
    ")\n",
    "p.draw()\n"
   ]
  },
  {
   "cell_type": "code",
   "execution_count": null,
   "metadata": {},
   "outputs": [],
   "source": [
    "\n",
    "\n",
    "# Sample Data with Faceting\n",
    "df_faceted = pd.DataFrame({\n",
    "    'category': ['A', 'B', 'C', 'D'] * 2,\n",
    "    'value': [10, 15, 12, 17, 8, 13, 11, 14],\n",
    "    'group': ['G1']*4 + ['G2']*4\n",
    "})\n",
    "\n",
    "p = (\n",
    "    ggplot(df_faceted, aes(x='category', y='value')) +\n",
    "    geom_col(fill='orange', color='black') +\n",
    "    facet_wrap('group') +\n",
    "    theme_minimal()\n",
    ")\n",
    "p.draw()\n"
   ]
  },
  {
   "cell_type": "code",
   "execution_count": null,
   "metadata": {},
   "outputs": [],
   "source": [
    "df.category.describe()"
   ]
  },
  {
   "cell_type": "code",
   "execution_count": null,
   "metadata": {},
   "outputs": [],
   "source": [
    "import pandas as pd\n",
    "import numpy as np\n",
    "\n",
    "# Sample Data\n",
    "df = pd.DataFrame({\n",
    "    'x': np.linspace(0, 10, 100),\n",
    "    'y': np.sin(np.linspace(0, 10, 100)),\n",
    "    'category': np.random.choice(['A', 'B'], 100)\n",
    "})\n",
    "\n",
    "# Area Plot with Automatic Categorical Color Mapping\n",
    "p = (\n",
    "    ggplot(df, aes(x='x', y='y', fill='category', group='category')) +\n",
    "    geom_area(alpha=0.5) +\n",
    "    theme_minimal()\n",
    ")\n",
    "\n",
    "p.draw()\n",
    "\n"
   ]
  },
  {
   "cell_type": "code",
   "execution_count": null,
   "metadata": {},
   "outputs": [],
   "source": [
    "import pandas as pd\n",
    "import numpy as np\n",
    "\n",
    "# Sample Data\n",
    "df = pd.DataFrame({\n",
    "    'x': ['A', 'B', 'C', 'D'],\n",
    "    'y': [5, 10, 3, 7],\n",
    "    'category': np.random.choice(['G1', 'G2'], 4)\n",
    "})\n",
    "\n",
    "# Bar Plot with Automatic Conversion and Color Mapping\n",
    "p = (\n",
    "    ggplot(df, aes(x='x', y='y', fill='category', group='category')) +\n",
    "    geom_bar(alpha=0.7) +\n",
    "    theme_minimal()\n",
    ")\n",
    "\n",
    "p.draw()\n"
   ]
  },
  {
   "cell_type": "code",
   "execution_count": null,
   "metadata": {},
   "outputs": [],
   "source": [
    "# Sample Data\n",
    "df = pd.DataFrame({\n",
    "    'x': np.random.choice(['A', 'B'], 100),\n",
    "    'y': np.random.normal(size=100)\n",
    "})\n",
    "\n",
    "# Boxplot\n",
    "p = (\n",
    "    ggplot(df, aes(x='x', y='y', color='x')) +\n",
    "    geom_boxplot(fill='lightblue') +\n",
    "    theme_minimal()\n",
    ")\n",
    "p.draw()\n"
   ]
  },
  {
   "cell_type": "code",
   "execution_count": null,
   "metadata": {},
   "outputs": [],
   "source": [
    "# Sample Data\n",
    "df = pd.DataFrame({\n",
    "    'x': ['A', 'B', 'C', 'D'],\n",
    "    'y': [3, 7, 2, 5],\n",
    "    'group': ['G1', 'G1', 'G2', 'G2']\n",
    "})\n",
    "\n",
    "# Column Plot\n",
    "p = (\n",
    "    ggplot(df, aes(x='x', y='y', fill='group', group='group')) +\n",
    "    geom_col(alpha=0.7) +\n",
    "    theme_minimal()\n",
    ")\n",
    "p.draw()\n"
   ]
  },
  {
   "cell_type": "code",
   "execution_count": null,
   "metadata": {},
   "outputs": [],
   "source": [
    "# Sample Data\n",
    "df = pd.DataFrame({\n",
    "    'x': ['A', 'B', 'C', 'D'],\n",
    "    'y': [5, 8, 3, 6],\n",
    "    'ymin': [4, 7, 2, 5],\n",
    "    'ymax': [6, 9, 4, 7]\n",
    "})\n",
    "\n",
    "# Error Bar Plot\n",
    "p = (\n",
    "    ggplot(df, aes(x='x', y='y', ymin='ymin', ymax='ymax')) +\n",
    "    geom_errorbar() +\n",
    "    theme_minimal()\n",
    ")\n",
    "p.draw()\n"
   ]
  },
  {
   "cell_type": "code",
   "execution_count": null,
   "metadata": {},
   "outputs": [],
   "source": [
    "# Sample Data\n",
    "df = pd.DataFrame({\n",
    "    'x': np.random.normal(size=100)\n",
    "})\n",
    "\n",
    "# Histogram\n",
    "p = (\n",
    "    ggplot(df, aes(x='x')) +\n",
    "    geom_histogram(fill='lightblue', alpha=0.7) +\n",
    "    theme_minimal()\n",
    ")\n",
    "p.draw()\n"
   ]
  },
  {
   "cell_type": "code",
   "execution_count": null,
   "metadata": {},
   "outputs": [],
   "source": [
    "# Sample Data\n",
    "df = pd.DataFrame({\n",
    "    'x': np.linspace(0, 10, 100),\n",
    "    'ymin': np.sin(np.linspace(0, 10, 100)) - 0.5,\n",
    "    'ymax': np.sin(np.linspace(0, 10, 100)) + 0.5\n",
    "})\n",
    "\n",
    "# Ribbon Plot\n",
    "p = (\n",
    "    ggplot(df, aes(x='x', ymin='ymin', ymax='ymax')) +\n",
    "    geom_ribbon(fill='grey', alpha=0.5) +\n",
    "    theme_minimal()\n",
    ")\n",
    "p.draw()\n"
   ]
  },
  {
   "cell_type": "code",
   "execution_count": null,
   "metadata": {},
   "outputs": [],
   "source": [
    "# Sample Data\n",
    "df = pd.DataFrame({\n",
    "    'x': [1, 2, 3, 4],\n",
    "    'y': [4, 5, 6, 7],\n",
    "    'xend': [2, 3, 4, 5],\n",
    "    'yend': [6, 7, 8, 9]\n",
    "})\n",
    "\n",
    "# Segment Plot\n",
    "p = (\n",
    "    ggplot(df, aes(x='x', y='y', xend='xend', yend='yend')) +\n",
    "    geom_segment(color='red', linetype='dash') +\n",
    "    theme_minimal()\n",
    ")\n",
    "p.draw()\n"
   ]
  },
  {
   "cell_type": "code",
   "execution_count": null,
   "metadata": {},
   "outputs": [],
   "source": [
    "# Sample Data\n",
    "df = pd.DataFrame({\n",
    "    'x': np.linspace(0, 10, 100),\n",
    "    'y': np.sin(np.linspace(0, 10, 100))\n",
    "})\n",
    "\n",
    "# Step Plot\n",
    "p = (\n",
    "    ggplot(df, aes(x='x', y='y')) +\n",
    "    geom_step(color='blue') +\n",
    "    theme_minimal()\n",
    ")\n",
    "p.draw()\n"
   ]
  },
  {
   "cell_type": "code",
   "execution_count": null,
   "metadata": {},
   "outputs": [],
   "source": [
    "# Sample Data\n",
    "df = pd.DataFrame({\n",
    "    'x': np.tile(np.arange(1, 11), 10),\n",
    "    'y': np.repeat(np.arange(1, 11), 10),\n",
    "    'z': np.random.randn(100)\n",
    "})\n",
    "\n",
    "# Tile Plot\n",
    "(\n",
    "    ggplot(df, aes(x='x', y='y', z='z')) +\n",
    "    # geom_tile(fill='viridis') +\n",
    "    geom_tile()# +\n",
    "    # theme_minimal()\n",
    ")\n"
   ]
  },
  {
   "cell_type": "code",
   "execution_count": null,
   "metadata": {},
   "outputs": [],
   "source": [
    "# Sample Data\n",
    "df = pd.DataFrame({\n",
    "    'x': np.random.choice(['A', 'B'], 100),\n",
    "    'y': np.random.normal(size=100)\n",
    "})\n",
    "\n",
    "# Violin Plot\n",
    "p = (\n",
    "    ggplot(df, aes(x='x', y='y', fill='x')) +\n",
    "    geom_violin(alpha=0.5) +\n",
    "    theme_minimal()\n",
    ")\n",
    "p.draw()\n"
   ]
  },
  {
   "cell_type": "code",
   "execution_count": null,
   "metadata": {},
   "outputs": [],
   "source": []
  },
  {
   "cell_type": "code",
   "execution_count": null,
   "metadata": {},
   "outputs": [],
   "source": []
  },
  {
   "cell_type": "code",
   "execution_count": null,
   "metadata": {},
   "outputs": [],
   "source": []
  },
  {
   "cell_type": "code",
   "execution_count": null,
   "metadata": {},
   "outputs": [],
   "source": [
    "# Sample Data\n",
    "df = pd.DataFrame({\n",
    "    'category': ['A', 'B', 'C', 'D'],\n",
    "    'value': [10, 15, 12, 17]\n",
    "})\n",
    "\n",
    "# Basic Column Plot\n",
    "p = ggplot(df, aes(x='category', y='value')) + geom_col()\n",
    "p.draw()\n",
    "\n",
    "# Column Plot with Custom Fill and Outline Colors\n",
    "p = (\n",
    "    ggplot(df, aes(x='category', y='value')) +\n",
    "    geom_col(fill='skyblue', color='black') +\n",
    "    theme_minimal()\n",
    ")\n",
    "p.draw()\n",
    "\n",
    "# Column Plot with Grouping\n",
    "df_grouped = pd.DataFrame({\n",
    "    'category': ['A', 'A', 'B', 'B', 'C', 'C', 'D', 'D'],\n",
    "    'subgroup': ['X', 'Y'] * 4,\n",
    "    'value': [5, 5, 8, 7, 6, 6, 9, 8]\n",
    "})\n",
    "\n",
    "p = (\n",
    "    ggplot(df_grouped, aes(x='category', y='value', fill='subgroup')) +\n",
    "    geom_col(position='dodge') +\n",
    "    scale_fill_manual(values=['red', 'blue'], name='Subgroup') +\n",
    "    theme_minimal()\n",
    ")\n",
    "p.draw()\n",
    "\n",
    "\n",
    "\n",
    "# Stacked Bars (default)\n",
    "p = (\n",
    "    ggplot(df_grouped, aes(x='category', y='value', fill='subgroup')) +\n",
    "    geom_col(position='stack')\n",
    ")\n",
    "p.draw()\n",
    "\n",
    "# Side-by-Side Bars\n",
    "p = (\n",
    "    ggplot(df_grouped, aes(x='category', y='value', fill='subgroup')) +\n",
    "    geom_col(position='dodge')\n",
    ")\n",
    "p.draw()\n"
   ]
  },
  {
   "cell_type": "code",
   "execution_count": null,
   "metadata": {},
   "outputs": [],
   "source": [
    "# Sample Data\n",
    "np.random.seed(0)\n",
    "df = pd.DataFrame({\n",
    "    'x': np.random.rand(100),\n",
    "    'y': np.random.rand(100),\n",
    "    'size_var': np.random.rand(100) * 100\n",
    "})\n",
    "\n",
    "# Scatter Plot with Variable Point Sizes\n",
    "p = (\n",
    "    ggplot(df, aes(x='x', y='y', size='size_var')) +\n",
    "    geom_point(color='blue', alpha=0.7) +\n",
    "    scale_size(range=(2, 20), name='Variable Size')\n",
    ")\n",
    "p.draw()\n"
   ]
  },
  {
   "cell_type": "code",
   "execution_count": null,
   "metadata": {},
   "outputs": [],
   "source": [
    "# Sample Data\n",
    "x = np.arange(0, 10, 1)\n",
    "y = np.arange(0, 10, 1)\n",
    "X, Y = np.meshgrid(x, y)\n",
    "Z = np.sin(X) * np.cos(Y)\n",
    "df = pd.DataFrame({\n",
    "    'x': X.flatten(),\n",
    "    'y': Y.flatten(),\n",
    "    'z': Z.flatten()\n",
    "})\n",
    "\n",
    "# Heatmap with Gradient Fill\n",
    "p = (\n",
    "    ggplot(df, aes(x='x', y='y', fill='z')) +\n",
    "    geom_tile() +\n",
    "    scale_fill_gradient(low='blue', high='red', name='Intensity')\n",
    ")\n",
    "p.draw()\n"
   ]
  },
  {
   "cell_type": "code",
   "execution_count": null,
   "metadata": {},
   "outputs": [],
   "source": [
    "# Sample Data\n",
    "df = pd.DataFrame({\n",
    "    'x': range(10),\n",
    "    'y': [i**2 for i in range(10)],\n",
    "    'category': ['A']*5 + ['B']*5\n",
    "})\n",
    "\n",
    "# Plot with Manual Colors\n",
    "p = (\n",
    "    ggplot(df, aes(x='x', y='y', color='category')) +\n",
    "    geom_point(size=10) +\n",
    "    scale_color_manual(values=['red', 'blue'], name='Category', breaks=['A', 'B'], labels=['Group A', 'Group B'])\n",
    ")\n",
    "p.draw()\n"
   ]
  },
  {
   "cell_type": "code",
   "execution_count": null,
   "metadata": {},
   "outputs": [],
   "source": [
    "\n",
    "# Sample Data\n",
    "df = pd.DataFrame({\n",
    "    'x': range(1, 11),\n",
    "    'y': [i**2 for i in range(1, 11)]\n",
    "})\n",
    "\n",
    "# Customized Plot\n",
    "p = (\n",
    "    ggplot(df, aes(x='x', y='y')) +\n",
    "    geom_point(color='red', size=8) +\n",
    "    scale_x_continuous(\n",
    "        name='Custom X Axis',\n",
    "        limits=(0, 12),\n",
    "        breaks=[0, 3, 6, 9, 12],\n",
    "        labels=['Zero', 'Three', 'Six', 'Nine', 'Twelve']\n",
    "    ) +\n",
    "    scale_y_continuous(\n",
    "        name='Custom Y Axis',\n",
    "        limits=(0, 120),\n",
    "        breaks=[0, 20, 40, 60, 80, 100, 120],\n",
    "        labels=['0', '20', '40', '60', '80', '100', '120']\n",
    "    ) +\n",
    "    theme_minimal()\n",
    ")\n",
    "p.draw()\n"
   ]
  },
  {
   "cell_type": "code",
   "execution_count": null,
   "metadata": {},
   "outputs": [],
   "source": [
    "# Sample Data\n",
    "df = pd.DataFrame({\n",
    "    'x': range(10),\n",
    "    'y': [i**2 for i in range(10)]\n",
    "})\n",
    "\n",
    "# Plot with Axis Limits\n",
    "p = (\n",
    "    ggplot(df, aes(x='x', y='y')) +\n",
    "    geom_point() +\n",
    "    scale_x_continuous(limits=(2, 8)) +\n",
    "    scale_y_continuous(limits=(0, 70))\n",
    ")\n",
    "p.draw()\n"
   ]
  },
  {
   "cell_type": "code",
   "execution_count": null,
   "metadata": {},
   "outputs": [],
   "source": [
    "# Custom Ticks and Labels\n",
    "p = (\n",
    "    ggplot(df, aes(x='x', y='y')) +\n",
    "    geom_point() +\n",
    "    scale_x_continuous(\n",
    "        breaks=[0, 2, 4, 6, 8, 10],\n",
    "        labels=['zero', 'two', 'four', 'six', 'eight', 'ten']\n",
    "    ) +\n",
    "    scale_y_continuous(\n",
    "        breaks=[0, 20, 40, 60, 80],\n",
    "        labels=['0', 'Twenty', 'Forty', 'Sixty', 'Eighty']\n",
    "    )\n",
    ")\n",
    "p.draw()\n"
   ]
  },
  {
   "cell_type": "code",
   "execution_count": null,
   "metadata": {},
   "outputs": [],
   "source": [
    "# Sample Data with Exponential Growth\n",
    "df_log = pd.DataFrame({\n",
    "    'x': np.linspace(1, 100, 100),\n",
    "    'y': np.exp(np.linspace(0, 5, 100))\n",
    "})\n",
    "\n",
    "# Plot with Log Transformation\n",
    "p = (\n",
    "    ggplot(df_log, aes(x='x', y='y')) +\n",
    "    geom_line() +\n",
    "    scale_y_continuous(trans='log')\n",
    ")\n",
    "p.draw()\n"
   ]
  },
  {
   "cell_type": "code",
   "execution_count": null,
   "metadata": {},
   "outputs": [],
   "source": [
    "# Plot with Square Root Transformation\n",
    "p = (\n",
    "    ggplot(df, aes(x='x', y='y')) +\n",
    "    geom_point() +\n",
    "    scale_y_continuous(trans='sqrt')\n",
    ")\n",
    "p.draw()\n"
   ]
  },
  {
   "cell_type": "code",
   "execution_count": null,
   "metadata": {},
   "outputs": [],
   "source": [
    "\n",
    "\n",
    "# Sample Data\n",
    "df = pd.DataFrame({\n",
    "    'x': np.random.normal(size=100)\n",
    "})\n",
    "\n",
    "# Histogram using stat_bin\n",
    "p_hist = ggplot(df, aes(x='x')) + geom_histogram(bins=20)\n",
    "p_hist.draw()\n",
    "\n",
    "# Density Plot using stat_density\n",
    "p_density = ggplot(df, aes(x='x')) + geom_density()\n",
    "p_density.draw()\n",
    "\n",
    "# Smoothed Line using stat_smooth\n",
    "df_scatter = pd.DataFrame({\n",
    "    'x': np.linspace(0, 10, 100),\n",
    "    'y': np.sin(np.linspace(0, 10, 100)) + np.random.normal(scale=0.5, size=100)\n",
    "})\n",
    "p_smooth = ggplot(df_scatter, aes(x='x', y='y')) + geom_point() + geom_smooth(method='loess')\n",
    "p_smooth.draw()\n",
    "\n",
    "# ECDF using stat_ecdf\n",
    "p_ecdf = ggplot(df, aes(x='x')) + geom_step(stat='ecdf')\n",
    "p_ecdf.draw()\n"
   ]
  },
  {
   "cell_type": "code",
   "execution_count": null,
   "metadata": {},
   "outputs": [],
   "source": [
    "\n",
    "\n",
    "# Sample Data\n",
    "np.random.seed(0)\n",
    "df = pd.DataFrame({\n",
    "    'x': np.random.randn(500),\n",
    "    'y': np.random.randn(500) + np.arange(500) * 0.01,\n",
    "    'category': np.random.choice(['A', 'B'], size=500)\n",
    "})\n",
    "\n",
    "# Histogram\n",
    "p_hist = ggplot(df, aes(x='x')) + geom_histogram(bins=30, fill='blue', alpha=0.7)\n",
    "p_hist.draw()\n",
    "\n",
    "# Boxplot\n",
    "p_box = ggplot(df, aes(x='category', y='y', fill='category')) + geom_boxplot()\n",
    "p_box.draw()\n",
    "\n",
    "# Scatter Plot with Smoothing Line\n",
    "p_smooth = ggplot(df, aes(x='x', y='y')) + geom_point(alpha=0.5) + geom_smooth()\n",
    "p_smooth.draw()\n"
   ]
  },
  {
   "cell_type": "code",
   "execution_count": null,
   "metadata": {},
   "outputs": [],
   "source": [
    "# Sample Data\n",
    "df = pd.DataFrame({\n",
    "    'x': np.linspace(0, 10, 100),\n",
    "    'y': np.sin(np.linspace(0, 10, 100)),\n",
    "    'group': np.random.choice(['A', 'B'], 100)\n",
    "})\n",
    "\n",
    "# Basic Line Plot\n",
    "p = ggplot(df, aes(x='x', y='y')) + geom_line()\n",
    "p.draw()\n",
    "\n",
    "# Line Plot with Points\n",
    "p = ggplot(df, aes(x='x', y='y')) + geom_line() + geom_point()\n",
    "p.draw()\n",
    "\n",
    "# Line Plot with Grouping and Customization\n",
    "p = (\n",
    "    ggplot(df, aes(x='x', y='y', color='group', group='group')) +\n",
    "    geom_line(size=2) +\n",
    "    geom_point(size=4) +\n",
    "    scale_color_manual(values=['blue', 'green'])\n",
    ")\n",
    "p.draw()\n"
   ]
  },
  {
   "cell_type": "code",
   "execution_count": null,
   "metadata": {},
   "outputs": [],
   "source": [
    "# Custom Line Color and Width\n",
    "p = ggplot(df, aes(x='x', y='y')) + geom_line(color='red', size=3)\n",
    "p.draw()\n",
    "\n",
    "# Hiding Legend\n",
    "p = ggplot(df, aes(x='x', y='y')) + geom_line(showlegend=False)\n",
    "p.draw()\n",
    "\n",
    "# Setting Custom Trace Name\n",
    "p = ggplot(df, aes(x='x', y='y')) + geom_line(name='My Line')\n",
    "p.draw()\n"
   ]
  },
  {
   "cell_type": "code",
   "execution_count": null,
   "metadata": {},
   "outputs": [],
   "source": [
    "# Introducing NaN values\n",
    "df_with_nan = df.copy()\n",
    "df_with_nan.loc[20:30, 'y'] = np.nan\n",
    "\n",
    "# Line Plot with Missing Data\n",
    "p = ggplot(df_with_nan, aes(x='x', y='y')) + geom_line()\n",
    "p.draw()\n"
   ]
  },
  {
   "cell_type": "code",
   "execution_count": null,
   "metadata": {},
   "outputs": [],
   "source": [
    "# Adding Hover Information\n",
    "p = ggplot(df, aes(x='x', y='y', text='group')) + geom_line()\n",
    "p.draw()"
   ]
  },
  {
   "cell_type": "code",
   "execution_count": null,
   "metadata": {},
   "outputs": [],
   "source": [
    "\n",
    "\n",
    "# Sample Data\n",
    "df = pd.DataFrame({\n",
    "    'x': range(10),\n",
    "    'y': [i**2 for i in range(10)]\n",
    "})\n",
    "\n",
    "# Plot using theme_default\n",
    "p_default = ggplot(df, aes(x='x', y='y')) + geom_point() + theme_default()\n",
    "p_default.draw()\n",
    "\n",
    "# Plot using theme_minimal\n",
    "p_minimal = ggplot(df, aes(x='x', y='y')) + geom_point() + theme_minimal()\n",
    "p_minimal.draw()\n"
   ]
  },
  {
   "cell_type": "code",
   "execution_count": null,
   "metadata": {},
   "outputs": [],
   "source": [
    "# Sample Data\n",
    "df = pd.DataFrame({\n",
    "    'x': np.arange(1, 21),\n",
    "    'y': np.random.normal(size=20).cumsum(),\n",
    "    'error': np.random.rand(20),  # yerr values\n",
    "    'category': np.random.choice(['A', 'B'], 20),\n",
    "    'label': [f'P{i}' for i in range(1, 21)]\n",
    "})\n",
    "\n",
    "# Advanced Plot\n",
    "p = (\n",
    "    ggplot(df, aes(x='x', y='y', color='category')) +\n",
    "    geom_line() +\n",
    "    geom_point(size=5) +\n",
    "    geom_errorbar(aes(yerr='error'), width=0.2) +  # Error bars using the 'error' column (yerr)\n",
    "    geom_text(aes(label='label'), textposition='top center') +\n",
    "    scale_color_brewer(type='qual', palette='Set1') +\n",
    "    theme_custom(\n",
    "        background_color='lightgrey',\n",
    "        grid_color='white',\n",
    "        text_color='black'\n",
    "    ) +\n",
    "    labs(\n",
    "        title='Advanced Plot',\n",
    "        x='X-axis',\n",
    "        y='Y-axis',\n",
    "        color='Category Legend Title',  # Sets the legend title for the color aesthetic\n",
    "        caption='This is a caption'\n",
    "    ) +\n",
    "    coord_cartesian(xlim=(0, 25), ylim=(-5, 10))\n",
    ")\n",
    "p.draw()\n"
   ]
  },
  {
   "cell_type": "code",
   "execution_count": null,
   "metadata": {},
   "outputs": [],
   "source": [
    "# Sample Data\n",
    "df = pd.DataFrame({\n",
    "    'x': np.arange(1, 21),\n",
    "    'y': np.random.normal(size=20).cumsum(),\n",
    "    'error': np.random.rand(20),\n",
    "    'category': np.random.choice(['A', 'B'], 20),\n",
    "    'label': [f'P{i}' for i in range(1, 21)]\n",
    "})\n",
    "\n",
    "# Advanced Plot\n",
    "p = (\n",
    "    ggplot(df, aes(x='x', y='y', color='category')) +\n",
    "    geom_line() +\n",
    "    geom_point(size=5) +\n",
    "    geom_errorbar(aes(yerr='error'), width=0.2) +\n",
    "    geom_text(aes(label='label'), textposition='top center') +\n",
    "    scale_color_brewer(type='qual', palette='Set1') +\n",
    "    theme_custom(\n",
    "        background_color='lightgrey',\n",
    "        grid_color='white',\n",
    "        text_color='black'\n",
    "    ) +\n",
    "    labs(\n",
    "        title='Advanced Plot',\n",
    "        x='X-axis',\n",
    "        y='Y-axis',\n",
    "        color='Category'\n",
    "    ) +\n",
    "    facet_wrap('category', ncol=1) +\n",
    "    coord_cartesian(xlim=(0, 25), ylim=(-5, 10))\n",
    ")\n",
    "p.draw()\n"
   ]
  },
  {
   "cell_type": "code",
   "execution_count": null,
   "metadata": {},
   "outputs": [],
   "source": [
    "# Sample Data\n",
    "df = pd.DataFrame({\n",
    "    'x': np.arange(1, 21),\n",
    "    'y': np.random.normal(size=20).cumsum(),\n",
    "    'error': np.random.rand(20),\n",
    "    'category': np.random.choice(['A', 'B'], 20),\n",
    "    'label': [f'P{i}' for i in range(1, 21)]\n",
    "})\n",
    "\n",
    "# Advanced Plot\n",
    "p = (\n",
    "    ggplot(df, aes(x='x', y='y', color='category')) +\n",
    "    geom_line() +\n",
    "    geom_point(size=5) +\n",
    "    geom_errorbar(aes(yerr='error'), width=0.2) +\n",
    "    geom_text(aes(label='label'), vjust=-1) +\n",
    "    scale_color_brewer(type='qual', palette='Set1') +\n",
    "    theme_custom(\n",
    "        background_color='lightgrey',\n",
    "        grid_color='white',\n",
    "        text_color='black'\n",
    "    ) +\n",
    "    labs(\n",
    "        title='Advanced Plot',\n",
    "        x='X-axis',\n",
    "        y='Y-axis',\n",
    "        color='Category'\n",
    "    ) +\n",
    "    facet_wrap('category', ncol=1) +\n",
    "    coord_cartesian(xlim=(0, 25), ylim=(-5, 10))\n",
    ")\n",
    "p.draw()\n"
   ]
  },
  {
   "cell_type": "code",
   "execution_count": null,
   "metadata": {},
   "outputs": [],
   "source": [
    "# Sample Data\n",
    "df = pd.DataFrame({\n",
    "    'x': np.linspace(1, 100, 100),\n",
    "    'y': np.random.randn(100).cumsum(),\n",
    "    'category': np.random.choice(['A', 'B', 'C'], 100),\n",
    "    'group': np.random.choice(['G1', 'G2'], 100),\n",
    "    'size': np.random.rand(100) * 20,\n",
    "    'alpha': np.random.rand(100),\n",
    "    'fill_value': np.random.rand(100)\n",
    "})\n",
    "\n",
    "# Complex Plot\n",
    "p = (\n",
    "    ggplot(df, aes(x='x', y='y', color='category', size='size', alpha='alpha')) +\n",
    "    geom_point() +\n",
    "    geom_line(aes(group='group')) +\n",
    "    geom_area(aes(fill='fill_value'), alpha=0.3) +\n",
    "    scale_x_log10() +\n",
    "    scale_y_continuous(limits=(-20, 20)) +\n",
    "    scale_color_gradient(low='blue', high='red') +\n",
    "    scale_fill_gradient(low='yellow', high='green') +\n",
    "    theme_dark() +\n",
    "    facet_grid(rows='group', cols='category') +\n",
    "    coord_flip()\n",
    ")\n",
    "p.draw()\n",
    "\n",
    "# Save to HTML\n",
    "p.save('complex_plot.html')\n"
   ]
  },
  {
   "cell_type": "code",
   "execution_count": 49,
   "metadata": {},
   "outputs": [],
   "source": [
    "# Save to HTML\n",
    "p.save('plot_extended.html')"
   ]
  },
  {
   "cell_type": "code",
   "execution_count": null,
   "metadata": {},
   "outputs": [],
   "source": [
    "# Sample Data\n",
    "df = pd.DataFrame({\n",
    "    'x': range(10),\n",
    "    'y': [i**2 for i in range(10)]\n",
    "})\n",
    "\n",
    "# Plot\n",
    "p = ggplot(df, aes(x='x', y='y')) + geom_point() + geom_line()\n",
    "p.draw()\n",
    "\n",
    "# Save to HTML\n",
    "p.save('plot.html')\n"
   ]
  },
  {
   "cell_type": "code",
   "execution_count": null,
   "metadata": {},
   "outputs": [],
   "source": []
  }
 ],
 "metadata": {
  "kernelspec": {
   "display_name": "env",
   "language": "python",
   "name": "python3"
  },
  "language_info": {
   "codemirror_mode": {
    "name": "ipython",
    "version": 3
   },
   "file_extension": ".py",
   "mimetype": "text/x-python",
   "name": "python",
   "nbconvert_exporter": "python",
   "pygments_lexer": "ipython3",
   "version": "3.10.12"
  }
 },
 "nbformat": 4,
 "nbformat_minor": 2
}
